{
 "cells": [
  {
   "cell_type": "code",
   "execution_count": null,
   "metadata": {},
   "outputs": [],
   "source": [
    "import pandas as pd\n",
    "import numpy as np\n",
    "import plotly.express as px"
   ]
  },
  {
   "cell_type": "code",
   "execution_count": null,
   "metadata": {},
   "outputs": [],
   "source": [
    "lending_fil = <path of file>\n",
    "pd_lend_df = pd.read_csv(lending_fil)\n",
    "pd_lend_df.info()"
   ]
  },
  {
   "cell_type": "code",
   "execution_count": null,
   "metadata": {},
   "outputs": [],
   "source": [
    "pd_lend_df.dropna(axis = 1, how = 'all' ,inplace = True)\n",
    "pd_lend_df.info()\n",
    "#pd_numeric = pd_lend_df.describe()\n",
    "#pd_numeric.info()"
   ]
  },
  {
   "cell_type": "code",
   "execution_count": null,
   "metadata": {},
   "outputs": [],
   "source": [
    "pd_unique=pd_lend_df.loc[:,pd_lend_df.nunique()==1].copy()\n",
    "pd_unique.describe(include = 'all')\n"
   ]
  },
  {
   "cell_type": "code",
   "execution_count": null,
   "metadata": {},
   "outputs": [],
   "source": [
    "pd_lend_df=pd_lend_df.loc[:,pd_lend_df.nunique()>1]"
   ]
  },
  {
   "cell_type": "code",
   "execution_count": null,
   "metadata": {},
   "outputs": [],
   "source": [
    "pd_lend_df.info()"
   ]
  },
  {
   "cell_type": "code",
   "execution_count": null,
   "metadata": {},
   "outputs": [],
   "source": [
    "pd_lend_df.describe().to_csv(<path of to-Csv>)\n",
    "#print(len(pd_lend_df['member_id'].unique()))\n",
    "#print(len(pd_lend_df['id'].unique()))"
   ]
  },
  {
   "cell_type": "code",
   "execution_count": null,
   "metadata": {},
   "outputs": [],
   "source": [
    "pd_lend_df.describe(include ='object')"
   ]
  },
  {
   "cell_type": "code",
   "execution_count": null,
   "metadata": {},
   "outputs": [],
   "source": [
    "print(len(pd_lend_df[pd_lend_df['term'].str.contains(\"months\") == True]))"
   ]
  },
  {
   "cell_type": "code",
   "execution_count": null,
   "metadata": {},
   "outputs": [],
   "source": [
    "pd_lend_df['term'] = pd_lend_df['term'].str.replace(\"months\" ,\"\")\n",
    "pd_lend_df.describe(include ='object')"
   ]
  },
  {
   "cell_type": "code",
   "execution_count": null,
   "metadata": {},
   "outputs": [],
   "source": [
    "print(len(pd_lend_df[pd_lend_df['int_rate'].str.contains(\"%\") == True]))"
   ]
  },
  {
   "cell_type": "code",
   "execution_count": null,
   "metadata": {},
   "outputs": [],
   "source": [
    "pd_lend_df['int_rate'] = pd_lend_df['int_rate'].str.replace(\"%\" ,\"\")\n",
    "pd_lend_df.describe(include ='object')"
   ]
  },
  {
   "cell_type": "code",
   "execution_count": null,
   "metadata": {},
   "outputs": [],
   "source": [
    "print(len(pd_lend_df[pd_lend_df['revol_util'].str.contains(\"%\") == True]))"
   ]
  },
  {
   "cell_type": "code",
   "execution_count": null,
   "metadata": {},
   "outputs": [],
   "source": [
    "pd_lend_df['revol_util'] = pd_lend_df['revol_util'].str.replace(\"%\" ,\"\")\n",
    "pd_lend_df.describe(include ='object')"
   ]
  },
  {
   "cell_type": "code",
   "execution_count": null,
   "metadata": {},
   "outputs": [],
   "source": [
    "print(len(pd_lend_df[pd_lend_df['emp_length'].str.contains(\"years\") == True]))\n",
    "print(pd_lend_df['emp_length'].unique())"
   ]
  },
  {
   "cell_type": "code",
   "execution_count": null,
   "metadata": {},
   "outputs": [],
   "source": [
    "pd_lend_df['emp_length'] = pd_lend_df['emp_length'].str.replace(\"< 1\" ,\"0\")\n",
    "pd_lend_df['emp_length'] = pd_lend_df['emp_length'].str.replace(\"+\" ,\"\")\n",
    "pd_lend_df['emp_length'] = pd_lend_df['emp_length'].str.replace(\"years\" ,\"\")\n",
    "pd_lend_df['emp_length'] = pd_lend_df['emp_length'].str.replace(\"year\" ,\"\")\n",
    "pd_lend_df['emp_length'] = pd_lend_df['emp_length'].str.replace(\" \" ,\"\")\n",
    "print(pd_lend_df['emp_length'].unique())\n",
    "#pd_lend_df.describe(include ='object')\n",
    "\n"
   ]
  },
  {
   "cell_type": "code",
   "execution_count": null,
   "metadata": {},
   "outputs": [],
   "source": [
    "pd_lend_df['zip_code'] = pd_lend_df['zip_code'].str.replace(\"xx\" ,\"\")\n",
    "pd_lend_df.describe(include ='object')"
   ]
  },
  {
   "cell_type": "code",
   "execution_count": null,
   "metadata": {},
   "outputs": [],
   "source": [
    "print(pd_lend_df['next_pymnt_d'].unique())\n",
    "print(pd_lend_df['addr_state'].unique())\n",
    "print(pd_lend_df['purpose'].unique())  # might be imp\n",
    "print(pd_lend_df['verification_status'].unique())\n",
    "print(pd_lend_df['home_ownership'].unique())\n",
    "print(pd_lend_df['grade'].unique())\n",
    "print(pd_lend_df['sub_grade'].unique())\n",
    "print(pd_lend_df['loan_status'].unique())"
   ]
  },
  {
   "cell_type": "code",
   "execution_count": null,
   "metadata": {},
   "outputs": [],
   "source": [
    "print(len(pd_lend_df['url'].unique()))\n",
    "len_url = pd_lend_df['url'].str.len()\n",
    "len_url.describe()"
   ]
  },
  {
   "cell_type": "code",
   "execution_count": null,
   "metadata": {},
   "outputs": [],
   "source": [
    "len_desc = pd_lend_df['desc'].str.len()\n",
    "len_desc.describe()"
   ]
  },
  {
   "cell_type": "code",
   "execution_count": null,
   "metadata": {},
   "outputs": [],
   "source": [
    "#from urllib.parse import urlparse\n",
    "import urllib.parse as urlparse\n",
    "pd_lend_df['protocol'],pd_lend_df['domain'],pd_lend_df['path'],pd_lend_df['query'],pd_lend_df['fragment'] = zip(*pd_lend_df['url'].map(urlparse.urlsplit))\n",
    "#pd_lend_df['url']= zip(*pd_lend_df['url'].map(urlparse.urlsplit))[3]\n",
    "#print(pd_lend_df['protocol'].unique())\n",
    "#print(pd_lend_df['domain'].unique())\n",
    "#print(pd_lend_df['path'].unique())\n",
    "pd_lend_df['query'] = pd_lend_df['query'].str.replace(\"loan_id=\",\"\")\n",
    "#print(pd_lend_df['query'].unique())\n",
    "#print(pd_lend_df['fragment'].unique())\n",
    "pd_lend_df.drop(columns = ['protocol','domain','path','fragment','url'] ,inplace = True)\n",
    "pd_lend_df.describe(include ='object')"
   ]
  },
  {
   "cell_type": "code",
   "execution_count": null,
   "metadata": {},
   "outputs": [],
   "source": [
    "#rint(len(pd_lend_df['query'].unique()))\n",
    "#print(pd_lend_df['query'].unique())"
   ]
  },
  {
   "cell_type": "code",
   "execution_count": null,
   "metadata": {},
   "outputs": [],
   "source": [
    "pd_lend_df['desc'].head()\n"
   ]
  },
  {
   "cell_type": "code",
   "execution_count": null,
   "metadata": {},
   "outputs": [],
   "source": [
    "pd_lend_df['desc'].tail()"
   ]
  },
  {
   "cell_type": "code",
   "execution_count": null,
   "metadata": {},
   "outputs": [],
   "source": [
    "pd_lend_df['last_pymnt_d'].unique()"
   ]
  },
  {
   "cell_type": "code",
   "execution_count": null,
   "metadata": {},
   "outputs": [],
   "source": [
    "pd_lend_df.corr().to_csv(<corr file path>)\n"
   ]
  },
  {
   "cell_type": "code",
   "execution_count": null,
   "metadata": {},
   "outputs": [],
   "source": [
    "pd_lend_df.drop(columns=['desc','funded_amnt_inv','out_prncp_inv','total_pymnt_inv','total_pymnt_inv','total_rec_prncp','total_rec_int',\n",
    "                        'next_pymnt_d','query','member_id'], inplace = True)\n",
    "#desc is long text column, some of this info is in purpose and tile tolumns\n",
    "#funded_amnt_inv , loan amt and funded amt are highly correlated, dropping one for now\n",
    "#out_prncp_inv is highly correlated out_prncp; similar case for total_pymnt_inv ,total_pymnt_inv\n",
    "# total_pymnt = total_rec_prncp + total_rec_int , hence dropping princ and int cols\n",
    "# next_pymnt_d has lot of blanks and same vals , drop\n",
    "#query and # id same , drop query , member_id all unique\n",
    "pd_lend_df.to_csv(<post cleanup file>,index = False)\n"
   ]
  },
  {
   "cell_type": "code",
   "execution_count": null,
   "metadata": {},
   "outputs": [],
   "source": [
    "fig = px.box(pd_lend_df, y=\"loan_amnt\")\n",
    "fig.update_traces(quartilemethod=\"linear\") # or \"inclusive\", or \"linear\" by default\n",
    "fig.show()"
   ]
  },
  {
   "cell_type": "code",
   "execution_count": null,
   "metadata": {},
   "outputs": [],
   "source": [
    "fig = px.histogram(pd_lend_df, x=\"loan_amnt\")\n",
    "fig.show()"
   ]
  },
  {
   "cell_type": "code",
   "execution_count": null,
   "metadata": {},
   "outputs": [],
   "source": [
    "fig = px.histogram(pd_lend_df, x=\"loan_status\")\n",
    "fig.show()"
   ]
  },
  {
   "cell_type": "code",
   "execution_count": null,
   "metadata": {},
   "outputs": [],
   "source": []
  }
 ],
 "metadata": {
  "kernelspec": {
   "display_name": "Python 3",
   "language": "python",
   "name": "python3"
  },
  "language_info": {
   "codemirror_mode": {
    "name": "ipython",
    "version": 3
   },
   "file_extension": ".py",
   "mimetype": "text/x-python",
   "name": "python",
   "nbconvert_exporter": "python",
   "pygments_lexer": "ipython3",
   "version": "3.8.5"
  }
 },
 "nbformat": 4,
 "nbformat_minor": 4
}
